{
 "cells": [
  {
   "cell_type": "code",
   "execution_count": 1,
   "id": "689cae4c",
   "metadata": {},
   "outputs": [],
   "source": [
    "#Imports\n",
    "import pandas as pd\n",
    "import numpy as np\n",
    "import matplotlib.pyplot as plt\n",
    "import seaborn as sns\n",
    "\n",
    "import os, json, math, time\n",
    "from yelpapi import YelpAPI\n",
    "from tqdm.notebook import tqdm_notebook"
   ]
  },
  {
   "cell_type": "code",
   "execution_count": 2,
   "id": "7b6013f6",
   "metadata": {},
   "outputs": [],
   "source": [
    "# Load API Credentials\n",
    "with open('/Users/ashik/.secret/yelp_api.json') as f:   #use your path here!\n",
    "    login = json.load(f)\n",
    "\n",
    "yelp_api = YelpAPI(login['api-key'], timeout_s=5.0)"
   ]
  },
  {
   "cell_type": "code",
   "execution_count": 3,
   "id": "d8847bc9",
   "metadata": {},
   "outputs": [
    {
     "data": {
      "text/plain": [
       "<yelpapi.yelpapi.YelpAPI at 0x1620dbfd0>"
      ]
     },
     "execution_count": 3,
     "metadata": {},
     "output_type": "execute_result"
    }
   ],
   "source": [
    "yelp_api"
   ]
  },
  {
   "cell_type": "markdown",
   "id": "e6394d07",
   "metadata": {},
   "source": [
    "# API Call"
   ]
  },
  {
   "cell_type": "markdown",
   "id": "fa4236be",
   "metadata": {},
   "source": [
    "## Define Search Results and In Progress File"
   ]
  },
  {
   "cell_type": "code",
   "execution_count": 4,
   "id": "eb106ebf",
   "metadata": {},
   "outputs": [],
   "source": [
    "#Set API call parameters\n",
    "LOCATION = \"San Jose,CA\"\n",
    "TERM = \"Pizza\""
   ]
  },
  {
   "cell_type": "code",
   "execution_count": 5,
   "id": "b7dd1601",
   "metadata": {},
   "outputs": [
    {
     "data": {
      "text/plain": [
       "'Data/results_in_progress_CA_pizza.json'"
      ]
     },
     "execution_count": 5,
     "metadata": {},
     "output_type": "execute_result"
    }
   ],
   "source": [
    "# Specifying JSON_FILE filename (can include a folder)\n",
    "# include the search terms in the filename\n",
    "JSON_FILE = \"Data/results_in_progress_CA_pizza.json\"\n",
    "JSON_FILE"
   ]
  },
  {
   "cell_type": "markdown",
   "id": "8e7716bc",
   "metadata": {},
   "source": [
    "## Create json file function, delete if file already exists"
   ]
  },
  {
   "cell_type": "code",
   "execution_count": 6,
   "id": "3ff91807",
   "metadata": {},
   "outputs": [],
   "source": [
    "def create_json_file(JSON_FILE,  delete_if_exists=False):\n",
    "    \n",
    "    ## Check if JSON_FILE exists\n",
    "    file_exists = os.path.isfile(JSON_FILE)\n",
    "    \n",
    "    ## If it DOES exist:\n",
    "    if file_exists == True:\n",
    "        \n",
    "        ## Check if user wants to delete if exists\n",
    "        if delete_if_exists==True:\n",
    "            \n",
    "            print(f\"[!] {JSON_FILE} already exists. Deleting previous file...\")\n",
    "            ## delete file and confirm it no longer exits.\n",
    "            os.remove(JSON_FILE)\n",
    "            ## Recursive call to function after old file deleted\n",
    "            create_json_file(JSON_FILE,delete_if_exists=False)\n",
    "        else:\n",
    "            print(f\"[i] {JSON_FILE} already exists.\")            \n",
    "            \n",
    "            \n",
    "    ## If it does NOT exist:\n",
    "    else:\n",
    "        \n",
    "        ## INFORM USER AND SAVE EMPTY LIST\n",
    "        print(f\"[i] {JSON_FILE} not found. Saving empty list to new file.\")\n",
    "        \n",
    "        ## CREATE ANY NEEDED FOLDERS\n",
    "        # Get the Folder Name only\n",
    "        folder = os.path.dirname(JSON_FILE)\n",
    "        \n",
    "        ## If JSON_FILE included a folder:\n",
    "        if len(folder)>0:\n",
    "            # create the folder\n",
    "            os.makedirs(folder,exist_ok=True)\n",
    "        ## Save empty list to start the json file\n",
    "        with open(JSON_FILE,'w') as f:\n",
    "            json.dump([],f)  "
   ]
  },
  {
   "cell_type": "markdown",
   "id": "02d9f801",
   "metadata": {},
   "source": [
    "## Retrieve n-results, total_results, results_per_page, and n_pages variables "
   ]
  },
  {
   "cell_type": "code",
   "execution_count": 7,
   "id": "0bfe4f63",
   "metadata": {},
   "outputs": [
    {
     "name": "stdout",
     "output_type": "stream",
     "text": [
      "[i] Data/results_in_progress_CA_pizza.json not found. Saving empty list to new file.\n",
      "- 0 previous results found.\n"
     ]
    },
    {
     "data": {
      "text/plain": [
       "110"
      ]
     },
     "execution_count": 7,
     "metadata": {},
     "output_type": "execute_result"
    }
   ],
   "source": [
    "## Create a new empty json file (exist the previous if it exists)\n",
    "create_json_file(JSON_FILE, delete_if_exists=True)\n",
    "## Load previous results and use len of results for offset\n",
    "with open(JSON_FILE,'r') as f:\n",
    "    previous_results = json.load(f)\n",
    "    \n",
    "## set offset based on previous results\n",
    "n_results = len(previous_results)\n",
    "print(f'- {n_results} previous results found.')\n",
    "# use our yelp_api variable's search_query method to perform our API call\n",
    "results = yelp_api.search_query(location=LOCATION,\n",
    "                                term=TERM,\n",
    "                               offset=n_results)\n",
    "## How many results total?\n",
    "total_results = results['total']\n",
    "## How many did we get the details for?\n",
    "results_per_page = len(results['businesses'])\n",
    "# Use math.ceil to round up for the total number of pages of results.\n",
    "n_pages = math.ceil((results['total']-n_results)/ results_per_page)\n",
    "n_pages"
   ]
  },
  {
   "cell_type": "markdown",
   "id": "07543873",
   "metadata": {},
   "source": [
    "## Saving businesses"
   ]
  },
  {
   "cell_type": "code",
   "execution_count": 8,
   "id": "8ba56580",
   "metadata": {},
   "outputs": [
    {
     "data": {
      "application/vnd.jupyter.widget-view+json": {
       "model_id": "bfe45b53a6d94d2ba95dacbc0fd487f8",
       "version_major": 2,
       "version_minor": 0
      },
      "text/plain": [
       "  0%|          | 0/110 [00:00<?, ?it/s]"
      ]
     },
     "metadata": {},
     "output_type": "display_data"
    },
    {
     "name": "stdout",
     "output_type": "stream",
     "text": [
      "Exceeded 1000 api calls. Stopping loop.\n"
     ]
    }
   ],
   "source": [
    "for i in tqdm_notebook( range(1,n_pages+1)):\n",
    "    \n",
    "    ## Read in results in progress file and check the length\n",
    "    with open(JSON_FILE, 'r') as f:\n",
    "        previous_results = json.load(f)\n",
    "    ## save number of results for to use as offset\n",
    "    n_results = len(previous_results)\n",
    "    \n",
    "    if (n_results + results_per_page) > 1000:\n",
    "        print('Exceeded 1000 api calls. Stopping loop.')\n",
    "        break\n",
    "    \n",
    "    ## use n_results as the OFFSET \n",
    "    results = yelp_api.search_query(location=LOCATION,\n",
    "                                    term=TERM, \n",
    "                                    offset=n_results)\n",
    "    \n",
    "    \n",
    "    \n",
    "    ## append new results and save to file\n",
    "    previous_results.extend(results['businesses'])\n",
    "    \n",
    "    # display(previous_results)\n",
    "    with open(JSON_FILE,'w') as f:\n",
    "        json.dump(previous_results,f)\n",
    "    \n",
    "    time.sleep(.2)"
   ]
  },
  {
   "cell_type": "code",
   "execution_count": 9,
   "id": "10989f13",
   "metadata": {},
   "outputs": [
    {
     "data": {
      "text/html": [
       "<div>\n",
       "<style scoped>\n",
       "    .dataframe tbody tr th:only-of-type {\n",
       "        vertical-align: middle;\n",
       "    }\n",
       "\n",
       "    .dataframe tbody tr th {\n",
       "        vertical-align: top;\n",
       "    }\n",
       "\n",
       "    .dataframe thead th {\n",
       "        text-align: right;\n",
       "    }\n",
       "</style>\n",
       "<table border=\"1\" class=\"dataframe\">\n",
       "  <thead>\n",
       "    <tr style=\"text-align: right;\">\n",
       "      <th></th>\n",
       "      <th>id</th>\n",
       "      <th>alias</th>\n",
       "      <th>name</th>\n",
       "      <th>image_url</th>\n",
       "      <th>is_closed</th>\n",
       "      <th>url</th>\n",
       "      <th>review_count</th>\n",
       "      <th>categories</th>\n",
       "      <th>rating</th>\n",
       "      <th>coordinates</th>\n",
       "      <th>transactions</th>\n",
       "      <th>price</th>\n",
       "      <th>location</th>\n",
       "      <th>phone</th>\n",
       "      <th>display_phone</th>\n",
       "      <th>distance</th>\n",
       "    </tr>\n",
       "  </thead>\n",
       "  <tbody>\n",
       "    <tr>\n",
       "      <th>0</th>\n",
       "      <td>QNzqZtNb_I1mcHAviE5zeQ</td>\n",
       "      <td>bibos-ny-pizza-san-jose</td>\n",
       "      <td>Bibo's Ny Pizza</td>\n",
       "      <td>https://s3-media3.fl.yelpcdn.com/bphoto/slNv72...</td>\n",
       "      <td>False</td>\n",
       "      <td>https://www.yelp.com/biz/bibos-ny-pizza-san-jo...</td>\n",
       "      <td>1386</td>\n",
       "      <td>[{'alias': 'pizza', 'title': 'Pizza'}]</td>\n",
       "      <td>4.5</td>\n",
       "      <td>{'latitude': 37.306477955952, 'longitude': -12...</td>\n",
       "      <td>[pickup]</td>\n",
       "      <td>$$</td>\n",
       "      <td>{'address1': '1431 Bird Ave', 'address2': None...</td>\n",
       "      <td>+14082179084</td>\n",
       "      <td>(408) 217-9084</td>\n",
       "      <td>1253.647404</td>\n",
       "    </tr>\n",
       "    <tr>\n",
       "      <th>1</th>\n",
       "      <td>zVCIEtCsInWBZIs1vF73wg</td>\n",
       "      <td>square-pie-guys-campbell</td>\n",
       "      <td>Square Pie Guys</td>\n",
       "      <td>https://s3-media2.fl.yelpcdn.com/bphoto/P06HvK...</td>\n",
       "      <td>False</td>\n",
       "      <td>https://www.yelp.com/biz/square-pie-guys-campb...</td>\n",
       "      <td>3</td>\n",
       "      <td>[{'alias': 'chicken_wings', 'title': 'Chicken ...</td>\n",
       "      <td>4.5</td>\n",
       "      <td>{'latitude': 37.293896, 'longitude': -121.931254}</td>\n",
       "      <td>[]</td>\n",
       "      <td>NaN</td>\n",
       "      <td>{'address1': '1640 S Bascom Ave', 'address2': ...</td>\n",
       "      <td>+14159928206</td>\n",
       "      <td>(415) 992-8206</td>\n",
       "      <td>4801.735904</td>\n",
       "    </tr>\n",
       "    <tr>\n",
       "      <th>2</th>\n",
       "      <td>7HBtj81aBo2DEZFTPaaeqg</td>\n",
       "      <td>slice-of-homage-pizza-san-jose</td>\n",
       "      <td>Slice of Homage Pizza</td>\n",
       "      <td>https://s3-media2.fl.yelpcdn.com/bphoto/Pin-QL...</td>\n",
       "      <td>False</td>\n",
       "      <td>https://www.yelp.com/biz/slice-of-homage-pizza...</td>\n",
       "      <td>300</td>\n",
       "      <td>[{'alias': 'pizza', 'title': 'Pizza'}, {'alias...</td>\n",
       "      <td>4.5</td>\n",
       "      <td>{'latitude': 37.33497773585703, 'longitude': -...</td>\n",
       "      <td>[pickup, delivery]</td>\n",
       "      <td>$$</td>\n",
       "      <td>{'address1': '163 W Santa Clara St', 'address2...</td>\n",
       "      <td>+14084904477</td>\n",
       "      <td>(408) 490-4477</td>\n",
       "      <td>2189.653218</td>\n",
       "    </tr>\n",
       "    <tr>\n",
       "      <th>3</th>\n",
       "      <td>7NOpkoAUAGqMKEZgSu1QmA</td>\n",
       "      <td>a-slice-of-new-york-san-jose</td>\n",
       "      <td>A Slice of New York</td>\n",
       "      <td>https://s3-media4.fl.yelpcdn.com/bphoto/aTipil...</td>\n",
       "      <td>False</td>\n",
       "      <td>https://www.yelp.com/biz/a-slice-of-new-york-s...</td>\n",
       "      <td>3329</td>\n",
       "      <td>[{'alias': 'pizza', 'title': 'Pizza'}]</td>\n",
       "      <td>4.5</td>\n",
       "      <td>{'latitude': 37.3235243214913, 'longitude': -1...</td>\n",
       "      <td>[delivery]</td>\n",
       "      <td>$$</td>\n",
       "      <td>{'address1': '3443 Stevens Creek Blvd', 'addre...</td>\n",
       "      <td>+14082475423</td>\n",
       "      <td>(408) 247-5423</td>\n",
       "      <td>6589.770466</td>\n",
       "    </tr>\n",
       "    <tr>\n",
       "      <th>4</th>\n",
       "      <td>vDmGBY09fUawZKVyh5ozLQ</td>\n",
       "      <td>sliver-pizzeria-fremont-fremont</td>\n",
       "      <td>Sliver Pizzeria - Fremont</td>\n",
       "      <td>https://s3-media1.fl.yelpcdn.com/bphoto/HIcV7D...</td>\n",
       "      <td>False</td>\n",
       "      <td>https://www.yelp.com/biz/sliver-pizzeria-fremo...</td>\n",
       "      <td>48</td>\n",
       "      <td>[{'alias': 'pizza', 'title': 'Pizza'}, {'alias...</td>\n",
       "      <td>5.0</td>\n",
       "      <td>{'latitude': 37.549543, 'longitude': -121.98447}</td>\n",
       "      <td>[]</td>\n",
       "      <td>NaN</td>\n",
       "      <td>{'address1': '3658 Capitol Ave', 'address2': '...</td>\n",
       "      <td>+19254064809</td>\n",
       "      <td>(925) 406-4809</td>\n",
       "      <td>27365.922824</td>\n",
       "    </tr>\n",
       "  </tbody>\n",
       "</table>\n",
       "</div>"
      ],
      "text/plain": [
       "                       id                            alias  \\\n",
       "0  QNzqZtNb_I1mcHAviE5zeQ          bibos-ny-pizza-san-jose   \n",
       "1  zVCIEtCsInWBZIs1vF73wg         square-pie-guys-campbell   \n",
       "2  7HBtj81aBo2DEZFTPaaeqg   slice-of-homage-pizza-san-jose   \n",
       "3  7NOpkoAUAGqMKEZgSu1QmA     a-slice-of-new-york-san-jose   \n",
       "4  vDmGBY09fUawZKVyh5ozLQ  sliver-pizzeria-fremont-fremont   \n",
       "\n",
       "                        name  \\\n",
       "0            Bibo's Ny Pizza   \n",
       "1            Square Pie Guys   \n",
       "2      Slice of Homage Pizza   \n",
       "3        A Slice of New York   \n",
       "4  Sliver Pizzeria - Fremont   \n",
       "\n",
       "                                           image_url  is_closed  \\\n",
       "0  https://s3-media3.fl.yelpcdn.com/bphoto/slNv72...      False   \n",
       "1  https://s3-media2.fl.yelpcdn.com/bphoto/P06HvK...      False   \n",
       "2  https://s3-media2.fl.yelpcdn.com/bphoto/Pin-QL...      False   \n",
       "3  https://s3-media4.fl.yelpcdn.com/bphoto/aTipil...      False   \n",
       "4  https://s3-media1.fl.yelpcdn.com/bphoto/HIcV7D...      False   \n",
       "\n",
       "                                                 url  review_count  \\\n",
       "0  https://www.yelp.com/biz/bibos-ny-pizza-san-jo...          1386   \n",
       "1  https://www.yelp.com/biz/square-pie-guys-campb...             3   \n",
       "2  https://www.yelp.com/biz/slice-of-homage-pizza...           300   \n",
       "3  https://www.yelp.com/biz/a-slice-of-new-york-s...          3329   \n",
       "4  https://www.yelp.com/biz/sliver-pizzeria-fremo...            48   \n",
       "\n",
       "                                          categories  rating  \\\n",
       "0             [{'alias': 'pizza', 'title': 'Pizza'}]     4.5   \n",
       "1  [{'alias': 'chicken_wings', 'title': 'Chicken ...     4.5   \n",
       "2  [{'alias': 'pizza', 'title': 'Pizza'}, {'alias...     4.5   \n",
       "3             [{'alias': 'pizza', 'title': 'Pizza'}]     4.5   \n",
       "4  [{'alias': 'pizza', 'title': 'Pizza'}, {'alias...     5.0   \n",
       "\n",
       "                                         coordinates        transactions  \\\n",
       "0  {'latitude': 37.306477955952, 'longitude': -12...            [pickup]   \n",
       "1  {'latitude': 37.293896, 'longitude': -121.931254}                  []   \n",
       "2  {'latitude': 37.33497773585703, 'longitude': -...  [pickup, delivery]   \n",
       "3  {'latitude': 37.3235243214913, 'longitude': -1...          [delivery]   \n",
       "4   {'latitude': 37.549543, 'longitude': -121.98447}                  []   \n",
       "\n",
       "  price                                           location         phone  \\\n",
       "0    $$  {'address1': '1431 Bird Ave', 'address2': None...  +14082179084   \n",
       "1   NaN  {'address1': '1640 S Bascom Ave', 'address2': ...  +14159928206   \n",
       "2    $$  {'address1': '163 W Santa Clara St', 'address2...  +14084904477   \n",
       "3    $$  {'address1': '3443 Stevens Creek Blvd', 'addre...  +14082475423   \n",
       "4   NaN  {'address1': '3658 Capitol Ave', 'address2': '...  +19254064809   \n",
       "\n",
       "    display_phone      distance  \n",
       "0  (408) 217-9084   1253.647404  \n",
       "1  (415) 992-8206   4801.735904  \n",
       "2  (408) 490-4477   2189.653218  \n",
       "3  (408) 247-5423   6589.770466  \n",
       "4  (925) 406-4809  27365.922824  "
      ]
     },
     "metadata": {},
     "output_type": "display_data"
    },
    {
     "data": {
      "text/html": [
       "<div>\n",
       "<style scoped>\n",
       "    .dataframe tbody tr th:only-of-type {\n",
       "        vertical-align: middle;\n",
       "    }\n",
       "\n",
       "    .dataframe tbody tr th {\n",
       "        vertical-align: top;\n",
       "    }\n",
       "\n",
       "    .dataframe thead th {\n",
       "        text-align: right;\n",
       "    }\n",
       "</style>\n",
       "<table border=\"1\" class=\"dataframe\">\n",
       "  <thead>\n",
       "    <tr style=\"text-align: right;\">\n",
       "      <th></th>\n",
       "      <th>id</th>\n",
       "      <th>alias</th>\n",
       "      <th>name</th>\n",
       "      <th>image_url</th>\n",
       "      <th>is_closed</th>\n",
       "      <th>url</th>\n",
       "      <th>review_count</th>\n",
       "      <th>categories</th>\n",
       "      <th>rating</th>\n",
       "      <th>coordinates</th>\n",
       "      <th>transactions</th>\n",
       "      <th>price</th>\n",
       "      <th>location</th>\n",
       "      <th>phone</th>\n",
       "      <th>display_phone</th>\n",
       "      <th>distance</th>\n",
       "    </tr>\n",
       "  </thead>\n",
       "  <tbody>\n",
       "    <tr>\n",
       "      <th>995</th>\n",
       "      <td>wo13F6b8lyCyZnD04WSDYQ</td>\n",
       "      <td>chuck-e-cheese-cupertino-2</td>\n",
       "      <td>Chuck E. Cheese</td>\n",
       "      <td>https://s3-media3.fl.yelpcdn.com/bphoto/vEfG_E...</td>\n",
       "      <td>False</td>\n",
       "      <td>https://www.yelp.com/biz/chuck-e-cheese-cupert...</td>\n",
       "      <td>219</td>\n",
       "      <td>[{'alias': 'pizza', 'title': 'Pizza'}, {'alias...</td>\n",
       "      <td>3.0</td>\n",
       "      <td>{'latitude': 37.323660567993, 'longitude': -12...</td>\n",
       "      <td>[pickup, delivery]</td>\n",
       "      <td>$$</td>\n",
       "      <td>{'address1': '19805 Stevens Creek Blvd', 'addr...</td>\n",
       "      <td>+14088738485</td>\n",
       "      <td>(408) 873-8485</td>\n",
       "      <td>11879.986941</td>\n",
       "    </tr>\n",
       "    <tr>\n",
       "      <th>996</th>\n",
       "      <td>AMPeKmZJepoDwK1uCV7feQ</td>\n",
       "      <td>devout-coffee-fremont</td>\n",
       "      <td>Devout Coffee</td>\n",
       "      <td>https://s3-media3.fl.yelpcdn.com/bphoto/WDtC4D...</td>\n",
       "      <td>False</td>\n",
       "      <td>https://www.yelp.com/biz/devout-coffee-fremont...</td>\n",
       "      <td>1030</td>\n",
       "      <td>[{'alias': 'coffeeroasteries', 'title': 'Coffe...</td>\n",
       "      <td>4.5</td>\n",
       "      <td>{'latitude': 37.577333, 'longitude': -121.980799}</td>\n",
       "      <td>[delivery]</td>\n",
       "      <td>$</td>\n",
       "      <td>{'address1': '37323 Niles Blvd', 'address2': '...</td>\n",
       "      <td>+15107445189</td>\n",
       "      <td>(510) 744-5189</td>\n",
       "      <td>30211.383773</td>\n",
       "    </tr>\n",
       "    <tr>\n",
       "      <th>997</th>\n",
       "      <td>TIZJa5kYVWR8RUnskbVmnQ</td>\n",
       "      <td>p-za-kitchen-campbell</td>\n",
       "      <td>P.Za Kitchen</td>\n",
       "      <td>https://s3-media4.fl.yelpcdn.com/bphoto/9T3bDF...</td>\n",
       "      <td>False</td>\n",
       "      <td>https://www.yelp.com/biz/p-za-kitchen-campbell...</td>\n",
       "      <td>12</td>\n",
       "      <td>[{'alias': 'fooddeliveryservices', 'title': 'F...</td>\n",
       "      <td>2.0</td>\n",
       "      <td>{'latitude': 37.27966575520958, 'longitude': -...</td>\n",
       "      <td>[]</td>\n",
       "      <td>NaN</td>\n",
       "      <td>{'address1': '', 'address2': None, 'address3':...</td>\n",
       "      <td>+18887996601</td>\n",
       "      <td>(888) 799-6601</td>\n",
       "      <td>7416.408837</td>\n",
       "    </tr>\n",
       "    <tr>\n",
       "      <th>998</th>\n",
       "      <td>USxOexfcA4VwyLyc43k01w</td>\n",
       "      <td>sgd-tofu-house-san-jose-2</td>\n",
       "      <td>SGD Tofu House</td>\n",
       "      <td>https://s3-media3.fl.yelpcdn.com/bphoto/01B37n...</td>\n",
       "      <td>False</td>\n",
       "      <td>https://www.yelp.com/biz/sgd-tofu-house-san-jo...</td>\n",
       "      <td>682</td>\n",
       "      <td>[{'alias': 'korean', 'title': 'Korean'}]</td>\n",
       "      <td>4.0</td>\n",
       "      <td>{'latitude': 37.249537154827, 'longitude': -12...</td>\n",
       "      <td>[pickup, delivery]</td>\n",
       "      <td>$$</td>\n",
       "      <td>{'address1': '832 Blossom Hill Rd', 'address2'...</td>\n",
       "      <td>+14082278583</td>\n",
       "      <td>(408) 227-8583</td>\n",
       "      <td>7857.445712</td>\n",
       "    </tr>\n",
       "    <tr>\n",
       "      <th>999</th>\n",
       "      <td>luj6QJYgI4XkAR_t8SFxvQ</td>\n",
       "      <td>8elements-perfect-indian-cuisine-san-jose</td>\n",
       "      <td>8Elements Perfect Indian Cuisine</td>\n",
       "      <td>https://s3-media1.fl.yelpcdn.com/bphoto/sRkwWA...</td>\n",
       "      <td>False</td>\n",
       "      <td>https://www.yelp.com/biz/8elements-perfect-ind...</td>\n",
       "      <td>1052</td>\n",
       "      <td>[{'alias': 'indpak', 'title': 'Indian'}]</td>\n",
       "      <td>3.5</td>\n",
       "      <td>{'latitude': 37.309618, 'longitude': -121.810133}</td>\n",
       "      <td>[pickup, delivery]</td>\n",
       "      <td>$$</td>\n",
       "      <td>{'address1': '1781 E Capitol Expy', 'address2'...</td>\n",
       "      <td>+14082702577</td>\n",
       "      <td>(408) 270-2577</td>\n",
       "      <td>6671.081049</td>\n",
       "    </tr>\n",
       "  </tbody>\n",
       "</table>\n",
       "</div>"
      ],
      "text/plain": [
       "                         id                                      alias  \\\n",
       "995  wo13F6b8lyCyZnD04WSDYQ                 chuck-e-cheese-cupertino-2   \n",
       "996  AMPeKmZJepoDwK1uCV7feQ                      devout-coffee-fremont   \n",
       "997  TIZJa5kYVWR8RUnskbVmnQ                      p-za-kitchen-campbell   \n",
       "998  USxOexfcA4VwyLyc43k01w                  sgd-tofu-house-san-jose-2   \n",
       "999  luj6QJYgI4XkAR_t8SFxvQ  8elements-perfect-indian-cuisine-san-jose   \n",
       "\n",
       "                                 name  \\\n",
       "995                   Chuck E. Cheese   \n",
       "996                     Devout Coffee   \n",
       "997                      P.Za Kitchen   \n",
       "998                    SGD Tofu House   \n",
       "999  8Elements Perfect Indian Cuisine   \n",
       "\n",
       "                                             image_url  is_closed  \\\n",
       "995  https://s3-media3.fl.yelpcdn.com/bphoto/vEfG_E...      False   \n",
       "996  https://s3-media3.fl.yelpcdn.com/bphoto/WDtC4D...      False   \n",
       "997  https://s3-media4.fl.yelpcdn.com/bphoto/9T3bDF...      False   \n",
       "998  https://s3-media3.fl.yelpcdn.com/bphoto/01B37n...      False   \n",
       "999  https://s3-media1.fl.yelpcdn.com/bphoto/sRkwWA...      False   \n",
       "\n",
       "                                                   url  review_count  \\\n",
       "995  https://www.yelp.com/biz/chuck-e-cheese-cupert...           219   \n",
       "996  https://www.yelp.com/biz/devout-coffee-fremont...          1030   \n",
       "997  https://www.yelp.com/biz/p-za-kitchen-campbell...            12   \n",
       "998  https://www.yelp.com/biz/sgd-tofu-house-san-jo...           682   \n",
       "999  https://www.yelp.com/biz/8elements-perfect-ind...          1052   \n",
       "\n",
       "                                            categories  rating  \\\n",
       "995  [{'alias': 'pizza', 'title': 'Pizza'}, {'alias...     3.0   \n",
       "996  [{'alias': 'coffeeroasteries', 'title': 'Coffe...     4.5   \n",
       "997  [{'alias': 'fooddeliveryservices', 'title': 'F...     2.0   \n",
       "998           [{'alias': 'korean', 'title': 'Korean'}]     4.0   \n",
       "999           [{'alias': 'indpak', 'title': 'Indian'}]     3.5   \n",
       "\n",
       "                                           coordinates        transactions  \\\n",
       "995  {'latitude': 37.323660567993, 'longitude': -12...  [pickup, delivery]   \n",
       "996  {'latitude': 37.577333, 'longitude': -121.980799}          [delivery]   \n",
       "997  {'latitude': 37.27966575520958, 'longitude': -...                  []   \n",
       "998  {'latitude': 37.249537154827, 'longitude': -12...  [pickup, delivery]   \n",
       "999  {'latitude': 37.309618, 'longitude': -121.810133}  [pickup, delivery]   \n",
       "\n",
       "    price                                           location         phone  \\\n",
       "995    $$  {'address1': '19805 Stevens Creek Blvd', 'addr...  +14088738485   \n",
       "996     $  {'address1': '37323 Niles Blvd', 'address2': '...  +15107445189   \n",
       "997   NaN  {'address1': '', 'address2': None, 'address3':...  +18887996601   \n",
       "998    $$  {'address1': '832 Blossom Hill Rd', 'address2'...  +14082278583   \n",
       "999    $$  {'address1': '1781 E Capitol Expy', 'address2'...  +14082702577   \n",
       "\n",
       "      display_phone      distance  \n",
       "995  (408) 873-8485  11879.986941  \n",
       "996  (510) 744-5189  30211.383773  \n",
       "997  (888) 799-6601   7416.408837  \n",
       "998  (408) 227-8583   7857.445712  \n",
       "999  (408) 270-2577   6671.081049  "
      ]
     },
     "metadata": {},
     "output_type": "display_data"
    }
   ],
   "source": [
    "# load final results\n",
    "final_df = pd.read_json(JSON_FILE)\n",
    "display(final_df.head(), final_df.tail())"
   ]
  },
  {
   "cell_type": "code",
   "execution_count": 10,
   "id": "0718e9b7",
   "metadata": {},
   "outputs": [
    {
     "data": {
      "text/plain": [
       "11"
      ]
     },
     "execution_count": 10,
     "metadata": {},
     "output_type": "execute_result"
    }
   ],
   "source": [
    "final_df.duplicated(subset='id').sum()"
   ]
  },
  {
   "cell_type": "code",
   "execution_count": 11,
   "id": "e38dc8ae",
   "metadata": {},
   "outputs": [
    {
     "data": {
      "text/plain": [
       "0"
      ]
     },
     "execution_count": 11,
     "metadata": {},
     "output_type": "execute_result"
    }
   ],
   "source": [
    "final_df = final_df.drop_duplicates(subset='id')\n",
    "final_df.duplicated(subset='id').sum()"
   ]
  },
  {
   "cell_type": "code",
   "execution_count": 12,
   "id": "3e5da01a",
   "metadata": {},
   "outputs": [],
   "source": [
    "# save the final results to a compressed csv\n",
    "final_df.to_csv('Data/final_results_CA_pizza.csv.gz', compression='gzip',index=False)"
   ]
  },
  {
   "cell_type": "code",
   "execution_count": null,
   "id": "8626b593",
   "metadata": {},
   "outputs": [],
   "source": []
  }
 ],
 "metadata": {
  "kernelspec": {
   "display_name": "Python (dojo-env)",
   "language": "python",
   "name": "dojo-env"
  },
  "language_info": {
   "codemirror_mode": {
    "name": "ipython",
    "version": 3
   },
   "file_extension": ".py",
   "mimetype": "text/x-python",
   "name": "python",
   "nbconvert_exporter": "python",
   "pygments_lexer": "ipython3",
   "version": "3.9.15"
  },
  "toc": {
   "base_numbering": 1,
   "nav_menu": {},
   "number_sections": false,
   "sideBar": true,
   "skip_h1_title": false,
   "title_cell": "Table of Contents",
   "title_sidebar": "Contents",
   "toc_cell": false,
   "toc_position": {},
   "toc_section_display": true,
   "toc_window_display": true
  }
 },
 "nbformat": 4,
 "nbformat_minor": 5
}
